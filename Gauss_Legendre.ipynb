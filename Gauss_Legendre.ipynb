{
 "cells": [
  {
   "cell_type": "code",
   "execution_count": 20,
   "id": "1cdb984a-4b7a-4867-8c1c-c6e2ca7ae0be",
   "metadata": {},
   "outputs": [
    {
     "name": "stdout",
     "output_type": "stream",
     "text": [
      "integral usando trapecio= 0.6636251790974452\n"
     ]
    }
   ],
   "source": [
    "import numpy as np\n",
    "import matplotlib.pyplot as plt\n",
    "import pandas as pd\n",
    "\n",
    "# Definimos integrando\n",
    "def f(x):\n",
    "    return np.exp(x)*np.sin(x)\n",
    "\n",
    "# Parametros\n",
    "a = -1.\n",
    "b = 1.\n",
    "N = 100\n",
    "x = np.linspace(a, b, N)\n",
    "\n",
    "# Implementacion trapecio\n",
    "def trapezoidal(a, b, N):\n",
    "    delta = (b - a) / (N - 1)\n",
    "    x_vals = np.linspace(a, b, N)\n",
    "    f_vals = f(x_vals)\n",
    "    result = 0.5 * delta * (f(a) + f(b)) + delta * np.sum(f_vals[1:-1])\n",
    "    return result\n",
    "\n",
    "trapez = trapezoidal(a, b, N)\n",
    "\n",
    "print(\"integral usando trapecio=\",trapez)"
   ]
  },
  {
   "cell_type": "markdown",
   "id": "1a050831-88ed-4fcd-9256-370b245a62a4",
   "metadata": {},
   "source": [
    "Acá calculamos el resultado exacto:"
   ]
  },
  {
   "cell_type": "code",
   "execution_count": 21,
   "id": "ab104759-1a01-49f8-bd0a-6401046becdb",
   "metadata": {},
   "outputs": [
    {
     "name": "stdout",
     "output_type": "stream",
     "text": [
      "0.6634936666312412\n"
     ]
    }
   ],
   "source": [
    "exact = 0.5*(np.exp(1)*np.sin(1)-np.exp(1)*np.cos(1))-0.5*(np.exp(-1)*np.sin(-1)-np.exp(-1)*np.cos(-1))\n",
    "\n",
    "print(exact)"
   ]
  },
  {
   "cell_type": "markdown",
   "id": "7c72ed19-a426-44a9-8803-17f04435931d",
   "metadata": {},
   "source": [
    "Acá calculamos el resultado numérico usando cuadratura de Gauss-Legendre de dos puntos"
   ]
  },
  {
   "cell_type": "code",
   "execution_count": 22,
   "id": "2e5264d6-287c-475e-ae34-751f7b6915a9",
   "metadata": {},
   "outputs": [
    {
     "name": "stdout",
     "output_type": "stream",
     "text": [
      "0.6658436939767822\n"
     ]
    }
   ],
   "source": [
    "GL2Result = np.exp(1/np.sqrt(3))*np.sin(1/np.sqrt(3))+np.exp(-1/np.sqrt(3))*np.sin(-1/np.sqrt(3))\n",
    "\n",
    "print(GL2Result)"
   ]
  },
  {
   "cell_type": "markdown",
   "id": "b3c07c97",
   "metadata": {},
   "source": [
    "Ahora, consigamos las variables (w 1 al 4 y x 1 al 4) a utilizar en la cuadratura Gauss-Legendre de 4 puntos utilizando numpy"
   ]
  },
  {
   "cell_type": "code",
   "execution_count": 23,
   "id": "8edb75dd-69c8-414e-8269-db85cc7d6976",
   "metadata": {},
   "outputs": [
    {
     "name": "stdout",
     "output_type": "stream",
     "text": [
      "Nodos:  [-0.86113631 -0.33998104  0.33998104  0.86113631]\n",
      "Pesos:  [0.34785485 0.65214515 0.65214515 0.34785485]\n"
     ]
    }
   ],
   "source": [
    "from numpy.polynomial.legendre import leggauss\n",
    "\n",
    "nodos, pesos = leggauss(4) # El 4 son los puntos a los que queremos cuadrar\n",
    "\n",
    "print('Nodos: ', nodos)\n",
    "print('Pesos: ', pesos)"
   ]
  },
  {
   "cell_type": "markdown",
   "id": "38909541",
   "metadata": {},
   "source": [
    "Luego, calculamos el resultado numerico de la cuadratura Gauss-Legendre a 4 puntos, para lo que definimos una función"
   ]
  },
  {
   "cell_type": "code",
   "execution_count": 24,
   "id": "621dfaf8",
   "metadata": {},
   "outputs": [
    {
     "name": "stdout",
     "output_type": "stream",
     "text": [
      "0.6634934393359946\n"
     ]
    }
   ],
   "source": [
    "def G_L4(f, nodos, pesos):\n",
    "    n = len(nodos)\n",
    "    i = 0\n",
    "    result = 0\n",
    "    while i < n:\n",
    "        result += (pesos[i]*f(nodos[i]))\n",
    "        i += 1\n",
    "    return result\n",
    "\n",
    "GL4Result = G_L4(f, nodos, pesos)\n",
    "\n",
    "print(GL4Result)\n"
   ]
  },
  {
   "cell_type": "markdown",
   "id": "bd66734e",
   "metadata": {},
   "source": [
    "Como se puede apreciar en los prints y en el diccionario de abajo, el error de la cuadratura a 4 puntos es menor tanto al \\\n",
    "del método trapezoidal como al de Gauss-Legendre de 2 puntos, y mejora la precisión de su versión de 2 puntos!"
   ]
  },
  {
   "cell_type": "code",
   "execution_count": 26,
   "id": "ba4d8199",
   "metadata": {},
   "outputs": [
    {
     "data": {
      "text/html": [
       "<div>\n",
       "<style scoped>\n",
       "    .dataframe tbody tr th:only-of-type {\n",
       "        vertical-align: middle;\n",
       "    }\n",
       "\n",
       "    .dataframe tbody tr th {\n",
       "        vertical-align: top;\n",
       "    }\n",
       "\n",
       "    .dataframe thead th {\n",
       "        text-align: right;\n",
       "    }\n",
       "</style>\n",
       "<table border=\"1\" class=\"dataframe\">\n",
       "  <thead>\n",
       "    <tr style=\"text-align: right;\">\n",
       "      <th></th>\n",
       "      <th>Trapezoidal</th>\n",
       "      <th>2p Gauss-Legendre</th>\n",
       "      <th>4p Gauss-Legendre</th>\n",
       "    </tr>\n",
       "  </thead>\n",
       "  <tbody>\n",
       "    <tr>\n",
       "      <th>Aproximación</th>\n",
       "      <td>0.663625</td>\n",
       "      <td>0.665844</td>\n",
       "      <td>6.634934e-01</td>\n",
       "    </tr>\n",
       "    <tr>\n",
       "      <th>Error absoluto</th>\n",
       "      <td>0.000132</td>\n",
       "      <td>0.002350</td>\n",
       "      <td>2.272952e-07</td>\n",
       "    </tr>\n",
       "  </tbody>\n",
       "</table>\n",
       "</div>"
      ],
      "text/plain": [
       "                Trapezoidal  2p Gauss-Legendre  4p Gauss-Legendre\n",
       "Aproximación       0.663625           0.665844       6.634934e-01\n",
       "Error absoluto     0.000132           0.002350       2.272952e-07"
      ]
     },
     "execution_count": 26,
     "metadata": {},
     "output_type": "execute_result"
    }
   ],
   "source": [
    "# Errores\n",
    "ErrTrap = np.abs(exact - trapez)\n",
    "ErrGL2 = np.abs(exact - GL2Result)\n",
    "ErrGL4 = np.abs(exact - GL4Result)\n",
    "\n",
    "index = ['Aproximación', 'Error absoluto']\n",
    "\n",
    "dict_err = {'Trapezoidal': [trapez, ErrTrap], '2p Gauss-Legendre': [GL2Result, ErrGL2], '4p Gauss-Legendre': [GL4Result, ErrGL4]}\n",
    "df_err = pd.DataFrame(dict_err, index = index)\n",
    "\n",
    "df_err"
   ]
  }
 ],
 "metadata": {
  "kernelspec": {
   "display_name": "Python 3",
   "language": "python",
   "name": "python3"
  },
  "language_info": {
   "codemirror_mode": {
    "name": "ipython",
    "version": 3
   },
   "file_extension": ".py",
   "mimetype": "text/x-python",
   "name": "python",
   "nbconvert_exporter": "python",
   "pygments_lexer": "ipython3",
   "version": "3.11.4"
  }
 },
 "nbformat": 4,
 "nbformat_minor": 5
}
