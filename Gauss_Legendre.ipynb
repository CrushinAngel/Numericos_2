{
 "cells": [
  {
   "cell_type": "code",
   "execution_count": 1,
   "id": "1cdb984a-4b7a-4867-8c1c-c6e2ca7ae0be",
   "metadata": {},
   "outputs": [
    {
     "name": "stdout",
     "output_type": "stream",
     "text": [
      "integral usando trapecio= 0.6636251790974452\n"
     ]
    }
   ],
   "source": [
    "import numpy as np\n",
    "import matplotlib.pyplot as plt\n",
    "\n",
    "# Definimos integrando\n",
    "def f(x):\n",
    "    return np.exp(x)*np.sin(x)\n",
    "\n",
    "# Parametros\n",
    "a = -1.\n",
    "b = 1.\n",
    "N = 100\n",
    "x = np.linspace(a, b, N)\n",
    "\n",
    "# Implementacion trapecio\n",
    "def trapezoidal(a, b, N):\n",
    "    delta = (b - a) / (N - 1)\n",
    "    x_vals = np.linspace(a, b, N)\n",
    "    f_vals = f(x_vals)\n",
    "    result = 0.5 * delta * (f(a) + f(b)) + delta * np.sum(f_vals[1:-1])\n",
    "    return result\n",
    "\n",
    "print(\"integral usando trapecio=\",trapezoidal(a, b, N))"
   ]
  },
  {
   "cell_type": "markdown",
   "id": "1a050831-88ed-4fcd-9256-370b245a62a4",
   "metadata": {},
   "source": [
    "Acá calculamos el resultado exacto:"
   ]
  },
  {
   "cell_type": "code",
   "execution_count": 2,
   "id": "ab104759-1a01-49f8-bd0a-6401046becdb",
   "metadata": {},
   "outputs": [
    {
     "name": "stdout",
     "output_type": "stream",
     "text": [
      "0.6634936666312412\n"
     ]
    }
   ],
   "source": [
    "print(0.5*(np.exp(1)*np.sin(1)-np.exp(1)*np.cos(1))-0.5*(np.exp(-1)*np.sin(-1)-np.exp(-1)*np.cos(-1)))"
   ]
  },
  {
   "cell_type": "markdown",
   "id": "7c72ed19-a426-44a9-8803-17f04435931d",
   "metadata": {},
   "source": [
    "Acá calculamos el resultado numérico usando cuadratura de Gauss-Legendre de dos puntos"
   ]
  },
  {
   "cell_type": "code",
   "execution_count": 3,
   "id": "2e5264d6-287c-475e-ae34-751f7b6915a9",
   "metadata": {},
   "outputs": [
    {
     "name": "stdout",
     "output_type": "stream",
     "text": [
      "0.6658436939767822\n"
     ]
    }
   ],
   "source": [
    "print(np.exp(1/np.sqrt(3))*np.sin(1/np.sqrt(3))+np.exp(-1/np.sqrt(3))*np.sin(-1/np.sqrt(3)))"
   ]
  },
  {
   "cell_type": "code",
   "execution_count": null,
   "id": "8edb75dd-69c8-414e-8269-db85cc7d6976",
   "metadata": {},
   "outputs": [],
   "source": []
  }
 ],
 "metadata": {
  "kernelspec": {
   "display_name": "Python 3 (ipykernel)",
   "language": "python",
   "name": "python3"
  },
  "language_info": {
   "codemirror_mode": {
    "name": "ipython",
    "version": 3
   },
   "file_extension": ".py",
   "mimetype": "text/x-python",
   "name": "python",
   "nbconvert_exporter": "python",
   "pygments_lexer": "ipython3",
   "version": "3.12.2"
  }
 },
 "nbformat": 4,
 "nbformat_minor": 5
}
